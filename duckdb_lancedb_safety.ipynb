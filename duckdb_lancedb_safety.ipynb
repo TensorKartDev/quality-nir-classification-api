{
 "cells": [
  {
   "cell_type": "code",
   "execution_count": 1,
   "metadata": {},
   "outputs": [
    {
     "name": "stdout",
     "output_type": "stream",
     "text": [
      "Total Incidents in Study : 8393\n"
     ]
    },
    {
     "name": "stderr",
     "output_type": "stream",
     "text": [
      "/var/folders/1y/msks1tdj7jgb7ghkxzmkq_yh0000gn/T/ipykernel_22523/1766030130.py:16: FutureWarning: The behavior of DataFrame concatenation with empty or all-NA entries is deprecated. In a future version, this will no longer exclude empty or all-NA columns when determining the result dtypes. To retain the old behavior, exclude the relevant entries before the concat operation.\n",
      "  combined_data = pd.concat([data_24, data_23, data_20, data_17], ignore_index=True)\n"
     ]
    }
   ],
   "source": [
    "import pandas as pd\n",
    "import os \n",
    "data_space = os.path.join(os.getcwd(), \"data\")\n",
    "file_24 = \"FY24.xls.xlsx\"\n",
    "file_23 = \"FY21-23.xlsx\"\n",
    "file_20 = \"FY18-20.xlsx\"\n",
    "file_17 = \"FY16-17.xlsx\"\n",
    "\n",
    "data_24 = pd.read_excel(os.path.join(data_space,file_24),parse_dates=['Incident Date'])\n",
    "data_24 = pd.read_excel(os.path.join(data_space, file_24), parse_dates=['Incident Date'])\n",
    "data_23 = pd.read_excel(os.path.join(data_space, file_23), parse_dates=['Incident Date'])\n",
    "data_20 = pd.read_excel(os.path.join(data_space, file_20), parse_dates=['Incident Date'])\n",
    "data_17 = pd.read_excel(os.path.join(data_space, file_17), parse_dates=['Incident Date'])\n",
    "\n",
    "# Concatenate all dataframes into one\n",
    "combined_data = pd.concat([data_24, data_23, data_20, data_17], ignore_index=True)\n",
    "#combined_data = data_24\n",
    "# Get the minimum date across all the files\n",
    "min_date = combined_data['Incident Date'].min()\n",
    "\n",
    "# Fill missing 'Incident Date' values with the minimum date\n",
    "combined_data['Incident Date'] = combined_data['Incident Date'].fillna(min_date)\n",
    "print(f\"Total Incidents in Study : {len(combined_data)}\")"
   ]
  },
  {
   "cell_type": "code",
   "execution_count": 2,
   "metadata": {},
   "outputs": [
    {
     "name": "stdout",
     "output_type": "stream",
     "text": [
      "8393 807\n"
     ]
    }
   ],
   "source": [
    "# Filter rows with text values 'A' or 'E'\n",
    "locations_to_search = ['Sherman','Marshalltown']\n",
    "def filter_rows_by_location_text_exclude_nan(df, locations):\n",
    "    \"\"\"\n",
    "    Filters rows based on the presence of any specific text values in an array in any columns \n",
    "    starting with 'Location', excluding NaN values.\n",
    "\n",
    "    Parameters:\n",
    "    df (pd.DataFrame): The input DataFrame containing the data.\n",
    "    locations (list of str): The list of text values to search for in the Location columns.\n",
    "\n",
    "    Returns:\n",
    "    pd.DataFrame: Filtered DataFrame where any Location columns contain any of the text values.\n",
    "    \"\"\"\n",
    "    # Filter columns that start with 'Location'\n",
    "    location_columns = [col for col in df.columns if col.startswith('Location')]\n",
    "    \n",
    "    # Create a boolean mask for each row where any of the locations match any of the location columns\n",
    "    mask = df[location_columns].apply(lambda row: row.fillna('').astype(str).apply(\n",
    "        lambda x: any(loc in x for loc in locations)), axis=1)\n",
    "    \n",
    "    # Filter the DataFrame based on the combined mask\n",
    "    filtered_rows = df[mask.any(axis=1)]\n",
    "    \n",
    "    return filtered_rows\n",
    "#locations_to_search = ['Marshalltown']\n",
    "filtered_df = filter_rows_by_location_text_exclude_nan(combined_data, locations_to_search)\n",
    "print(len(combined_data), len(filtered_df))"
   ]
  },
  {
   "cell_type": "code",
   "execution_count": 8,
   "metadata": {},
   "outputs": [
    {
     "ename": "AttributeError",
     "evalue": "'LanceDBConnection' object has no attribute 'list_tables'",
     "output_type": "error",
     "traceback": [
      "\u001b[0;31m---------------------------------------------------------------------------\u001b[0m",
      "\u001b[0;31mAttributeError\u001b[0m                            Traceback (most recent call last)",
      "Cell \u001b[0;32mIn[8], line 39\u001b[0m\n\u001b[1;32m     37\u001b[0m data_space \u001b[38;5;241m=\u001b[39m os\u001b[38;5;241m.\u001b[39mpath\u001b[38;5;241m.\u001b[39mjoin(os\u001b[38;5;241m.\u001b[39mgetcwd(), \u001b[38;5;124m\"\u001b[39m\u001b[38;5;124mdata\u001b[39m\u001b[38;5;124m\"\u001b[39m)\n\u001b[1;32m     38\u001b[0m data_lance \u001b[38;5;241m=\u001b[39m os\u001b[38;5;241m.\u001b[39mpath\u001b[38;5;241m.\u001b[39mjoin(os\u001b[38;5;241m.\u001b[39mgetcwd(), \u001b[38;5;124m\"\u001b[39m\u001b[38;5;124mlance\u001b[39m\u001b[38;5;124m\"\u001b[39m)\n\u001b[0;32m---> 39\u001b[0m \u001b[43msave_dataframes_to_lancedb\u001b[49m\u001b[43m(\u001b[49m\u001b[43mfiltered_df\u001b[49m\u001b[43m,\u001b[49m\u001b[43m \u001b[49m\u001b[43mdata_lance\u001b[49m\u001b[43m,\u001b[49m\u001b[43m \u001b[49m\u001b[38;5;124;43m'\u001b[39;49m\u001b[38;5;124;43mincidents_filtered\u001b[39;49m\u001b[38;5;124;43m'\u001b[39;49m\u001b[43m)\u001b[49m\n\u001b[1;32m     41\u001b[0m \u001b[38;5;66;03m#df_incidents = read_table_from_lancedb('/data/lance', 'incidents_filtered')\u001b[39;00m\n",
      "Cell \u001b[0;32mIn[8], line 9\u001b[0m, in \u001b[0;36msave_dataframes_to_lancedb\u001b[0;34m(df, path, table_name)\u001b[0m\n\u001b[1;32m      4\u001b[0m \u001b[38;5;28;01mdef\u001b[39;00m \u001b[38;5;21msave_dataframes_to_lancedb\u001b[39m(df, path, table_name):\n\u001b[1;32m      5\u001b[0m     \n\u001b[1;32m      6\u001b[0m     \u001b[38;5;66;03m# Connect to LanceDB at the given directory (persistent storage)\u001b[39;00m\n\u001b[1;32m      7\u001b[0m     ldb \u001b[38;5;241m=\u001b[39m lancedb\u001b[38;5;241m.\u001b[39mconnect(path)\n\u001b[0;32m----> 9\u001b[0m     \u001b[38;5;28;01mif\u001b[39;00m table_name \u001b[38;5;129;01mnot\u001b[39;00m \u001b[38;5;129;01min\u001b[39;00m \u001b[43mldb\u001b[49m\u001b[38;5;241;43m.\u001b[39;49m\u001b[43mlist_tables\u001b[49m():\n\u001b[1;32m     10\u001b[0m         ldb\u001b[38;5;241m.\u001b[39mcreate_table(table_name, data\u001b[38;5;241m=\u001b[39mdf\u001b[38;5;241m.\u001b[39mto_dict(orient\u001b[38;5;241m=\u001b[39m\u001b[38;5;124m\"\u001b[39m\u001b[38;5;124mrecords\u001b[39m\u001b[38;5;124m\"\u001b[39m))\n\u001b[1;32m     11\u001b[0m     \u001b[38;5;28;01melse\u001b[39;00m:\n",
      "\u001b[0;31mAttributeError\u001b[0m: 'LanceDBConnection' object has no attribute 'list_tables'"
     ]
    }
   ],
   "source": [
    "import lancedb\n",
    "import pandas as pd\n",
    "\n",
    "def save_dataframes_to_lancedb(df, path, table_name):\n",
    "    \n",
    "    # Connect to LanceDB at the given directory (persistent storage)\n",
    "    ldb = lancedb.connect(path)\n",
    "\n",
    "    if table_name not in ldb.list_tables():\n",
    "        ldb.create_table(table_name, data=df.to_dict(orient=\"records\"))\n",
    "    else:\n",
    "        print(f\"Table '{table_name}' already exists.\")\n",
    "\n",
    "    print(f\"DataFrames saved to LanceDB at '{path}' as '{table_name}'.\")\n",
    "\n",
    "def read_table_from_lancedb(path, table_name):\n",
    "    \"\"\"\n",
    "    Reads a table from LanceDB storage.\n",
    "\n",
    "    :param path: Directory path where LanceDB is stored\n",
    "    :param table_name: Name of the table to read from LanceDB\n",
    "    :return: Pandas DataFrame containing the data from LanceDB table\n",
    "    \"\"\"\n",
    "    # Connect to LanceDB\n",
    "    ldb = lancedb.connect(path)\n",
    "\n",
    "    # Load the table from LanceDB\n",
    "    if table_name in ldb.list_tables():\n",
    "        table = ldb.open_table(table_name)\n",
    "        # Convert the LanceDB table to a pandas DataFrame\n",
    "        df = pd.DataFrame(table.to_pandas())\n",
    "        print(f\"Table '{table_name}' loaded successfully from '{path}'.\")\n",
    "        return df\n",
    "    else:\n",
    "        print(f\"Table '{table_name}' does not exist in LanceDB storage.\")\n",
    "        return None\n",
    "data_space = os.path.join(os.getcwd(), \"data\")\n",
    "data_lance = os.path.join(os.getcwd(), \"lance\")\n",
    "save_dataframes_to_lancedb(filtered_df, data_lance, 'incidents_filtered')\n",
    "\n",
    "#df_incidents = read_table_from_lancedb('/data/lance', 'incidents_filtered')"
   ]
  },
  {
   "cell_type": "code",
   "execution_count": 28,
   "metadata": {},
   "outputs": [
    {
     "data": {
      "text/html": [
       "<div>\n",
       "<style scoped>\n",
       "    .dataframe tbody tr th:only-of-type {\n",
       "        vertical-align: middle;\n",
       "    }\n",
       "\n",
       "    .dataframe tbody tr th {\n",
       "        vertical-align: top;\n",
       "    }\n",
       "\n",
       "    .dataframe thead th {\n",
       "        text-align: right;\n",
       "    }\n",
       "</style>\n",
       "<table border=\"1\" class=\"dataframe\">\n",
       "  <thead>\n",
       "    <tr style=\"text-align: right;\">\n",
       "      <th></th>\n",
       "      <th>text</th>\n",
       "      <th>vector</th>\n",
       "    </tr>\n",
       "  </thead>\n",
       "  <tbody>\n",
       "    <tr>\n",
       "      <th>0</th>\n",
       "      <td>Incident Number: AS-IN-20231002-004, Incident ...</td>\n",
       "      <td>[0.6503572463989258, -0.21219654381275177, -2....</td>\n",
       "    </tr>\n",
       "    <tr>\n",
       "      <th>1</th>\n",
       "      <td>Incident Number: AS-IN-20231004-003, Incident ...</td>\n",
       "      <td>[0.16177916526794434, -0.7963669300079346, -2....</td>\n",
       "    </tr>\n",
       "    <tr>\n",
       "      <th>2</th>\n",
       "      <td>Incident Number: AS-IN-20231030-001, Incident ...</td>\n",
       "      <td>[0.4862600862979889, -0.06751403957605362, -2....</td>\n",
       "    </tr>\n",
       "    <tr>\n",
       "      <th>3</th>\n",
       "      <td>Incident Number: AS-IN-20231103-002, Incident ...</td>\n",
       "      <td>[0.6799659132957458, -0.1716877967119217, -2.0...</td>\n",
       "    </tr>\n",
       "    <tr>\n",
       "      <th>4</th>\n",
       "      <td>Incident Number: AS-IN-20231104-001, Incident ...</td>\n",
       "      <td>[0.5858640074729919, -0.1184571385383606, -2.1...</td>\n",
       "    </tr>\n",
       "  </tbody>\n",
       "</table>\n",
       "</div>"
      ],
      "text/plain": [
       "                                                text  \\\n",
       "0  Incident Number: AS-IN-20231002-004, Incident ...   \n",
       "1  Incident Number: AS-IN-20231004-003, Incident ...   \n",
       "2  Incident Number: AS-IN-20231030-001, Incident ...   \n",
       "3  Incident Number: AS-IN-20231103-002, Incident ...   \n",
       "4  Incident Number: AS-IN-20231104-001, Incident ...   \n",
       "\n",
       "                                              vector  \n",
       "0  [0.6503572463989258, -0.21219654381275177, -2....  \n",
       "1  [0.16177916526794434, -0.7963669300079346, -2....  \n",
       "2  [0.4862600862979889, -0.06751403957605362, -2....  \n",
       "3  [0.6799659132957458, -0.1716877967119217, -2.0...  \n",
       "4  [0.5858640074729919, -0.1184571385383606, -2.1...  "
      ]
     },
     "execution_count": 28,
     "metadata": {},
     "output_type": "execute_result"
    }
   ],
   "source": [
    "import requests\n",
    "import json\n",
    "table = db[\"incidents_filtered\"]\n",
    "import lancedb\n",
    "\n",
    "def prepare_data(df):\n",
    "    \"\"\"\n",
    "    Helper function to prepare data and return a new DataFrame with 'text' and 'embedding' columns.\n",
    "    \n",
    "    :param df: Input pandas DataFrame.\n",
    "    :param get_embeddings: Function to generate embeddings for a given text.\n",
    "    \n",
    "    :return: DataFrame with two columns: 'text' and 'embedding'.\n",
    "    \"\"\"\n",
    "    # Create an empty list to store the text and embeddings\n",
    "    data = []\n",
    "\n",
    "    # Iterate through each row in the DataFrame\n",
    "    for index, row in df.iterrows():\n",
    "        # Convert the row to a dictionary where the column names are keys\n",
    "        row_dict = {col: str(row[col]) for col in df.columns}\n",
    "        \n",
    "        # Flatten the dictionary into a string where each key-value pair is joined by a separator\n",
    "        flat_text = ', '.join([f\"{key}: {value.replace('nan', '')}\" for key, value in row_dict.items()])\n",
    "        \n",
    "        # Generate the embedding using the provided function\n",
    "        embedding = get_embeddings(flat_text)\n",
    "        \n",
    "        # Append the flat text and embedding as a tuple to the data list\n",
    "        data.append({'text': flat_text, 'vector': embedding})\n",
    "    \n",
    "    # Convert the list of dictionaries into a DataFrame\n",
    "    result_df = pd.DataFrame(data, columns=['text', 'vector'])\n",
    "    \n",
    "    return result_df\n",
    "\n",
    "#db.create_table(\"incidents_filtered_embeddings\", )       \n",
    "\n",
    "def get_embeddings(content):\n",
    "    url = \"http://localhost:11434/api/embeddings\"\n",
    "    payload = {\n",
    "        \"model\": \"nomic-embed-text\",\n",
    "        \"prompt\": content\n",
    "    }\n",
    "    headers = {\n",
    "        \"Content-Type\": \"application/json\"\n",
    "    }\n",
    "    response = requests.post(url, data=json.dumps(payload), headers=headers)\n",
    "    response.raise_for_status()\n",
    "    return response.json()[\"embedding\"]\n",
    "k = 5\n",
    "\n",
    "result_df = prepare_data(filtered_df)\n",
    "result_df.head()\n",
    "\n"
   ]
  },
  {
   "cell_type": "code",
   "execution_count": 29,
   "metadata": {},
   "outputs": [],
   "source": [
    "result_df.columns\n",
    "data_space = os.path.join(os.getcwd(), \"data\")\n",
    "data_lance = os.path.join(data_space, \".lancedb\")\n",
    "db = lancedb.connect(data_lance)\n",
    "table = db.create_table(\"incidents_marshalltown_sherman\", result_df)\n"
   ]
  },
  {
   "cell_type": "code",
   "execution_count": 38,
   "metadata": {},
   "outputs": [],
   "source": [
    "def RA(messages, model):\n",
    "    r = requests.post(\n",
    "        \"http://127.0.0.1:11434/api/chat\",\n",
    "        json={\"model\": model, \"messages\": messages, \"stream\": True},\n",
    "        stream=True\n",
    "    )\n",
    "    r.raise_for_status()\n",
    "    output = \"\"\n",
    "\n",
    "    for line in r.iter_lines():\n",
    "        body = json.loads(line)\n",
    "        if \"error\" in body:\n",
    "            raise Exception(body[\"error\"])\n",
    "        if body.get(\"done\") is False:\n",
    "            message = body.get(\"message\", \"\")\n",
    "            content = message.get(\"content\", \"\")\n",
    "            output += content\n",
    "        if body.get(\"done\", False):\n",
    "            message[\"content\"] = output\n",
    "            return message"
   ]
  },
  {
   "cell_type": "code",
   "execution_count": 62,
   "metadata": {},
   "outputs": [
    {
     "data": {
      "text/plain": [
       "array([['', '', '', '', '', '', ''],\n",
       "       ['', '\\n\\n',\n",
       "        '1. Activity/Job/Equipment: Aerial Lift Operation                                                          2. Location: Sherman ',\n",
       "        '',\n",
       "        '3. Department: Maintenance                                                 4. Preformed By:Otis Brown',\n",
       "        '5. Job Title: Maintenance                  6. Date Prepared:12/10/2013',\n",
       "        'J.S.A. NO. 0300-01                                 Rev. 06/15/2018\\n PAGE 1 OF 2'],\n",
       "       ['', 'Risk Rank', 'Important Steps', '', '', '', 'Pictures'],\n",
       "       ['', 'High 10', '7. TASKS/PROCEDURES', '',\n",
       "        '8. HAZARDS (UNSAFE ACTS-CONDITIONS (HOW)',\n",
       "        '  9. CORRECTIVE MEASURES Engineering Controls * Substition * Administrative Controls * PPE',\n",
       "        ''],\n",
       "       ['', 'SAFETY', 'Complete operator training.', '',\n",
       "        'a) Facility Damage, employee injury, operator injury',\n",
       "        'a) Assure the employee is in an area away from other employees/equipment/hazards and  is monitored 100% by the trainer ',\n",
       "        ''],\n",
       "       ['', 'Safety Glasses and Safety Shoes\\n Required ', '', '', '',\n",
       "        '', ''],\n",
       "       ['', '', 'Always use proper PPE.', '', 'Damaged PPE',\n",
       "        'Inspect PPE (harness, lanyard)   \\nSee SMP 16C36                                                                               \\n',\n",
       "        ''],\n",
       "       ['', '',\n",
       "        'After completing the safety checklist, take the Aerial Lift to area where work is to be performed.',\n",
       "        '',\n",
       "        'a) Pedestrian injury\\nb) Operator Injury\\nc) Facility damage\\n',\n",
       "        'a) Evaluate route to work for potential hazards and problems.',\n",
       "        ''],\n",
       "       ['', 'Gloves ', 'Always perform the operations with precautions.',\n",
       "        '',\n",
       "        'a) Pedestrian Injury\\nb) Fall\\nc) Electrical shock\\nd) Falling Object',\n",
       "        'a) Evaluate to determine high traffic area where a ground monitor may be needed, post “Overhead Work” signs\\nb) Utilize fall protection, do not climb out of the aerial lift \\nc) Evaluate for electrical exposures\\nd) Assure that all tools, material, and equipment are secure',\n",
       "        ''],\n",
       "       ['', '', 'Housekeeping', '', 'Slips/Trips/Falls ',\n",
       "        'Follow good housekeeping procedures. Keep area clean. ', ''],\n",
       "       ['', '10.  Environmental          Considerations \\n',\n",
       "        'This equipment contains oil as well as batteries that contain acids……closely monitor leaks and damage to equipment..',\n",
       "        '', '', '', ''],\n",
       "       ['', '', '', '', '', '', ''],\n",
       "       ['',\n",
       "        'SM1437/ June - 2018/ Rev D                                       Approved by: Justin Sloan                                                                                                       Date: 06/20/2020',\n",
       "        '', '', '', '', '']], dtype=object)"
      ]
     },
     "execution_count": 62,
     "metadata": {},
     "output_type": "execute_result"
    }
   ],
   "source": [
    "data_space = os.path.join(os.getcwd(), \"data\")\n",
    "jsa_datafolder =  os.path.join(data_space, \"JSA\")\n",
    "file_jsa = \"Horizontal Boring Mill.xlsx\"\n",
    "file_jsa = \"JSA 300-01 Aerial Lift.xlsx\"\n",
    "#file_jsa = \"JSA 300-02 Power Supply REPLACED with 300-07.xlsx\"\n",
    "jsa = pd.read_excel(os.path.join(jsa_datafolder,file_jsa))\n",
    "from sklearn.impute import SimpleImputer\n",
    "import numpy as np\n",
    "nan = SimpleImputer(missing_values=np.nan,strategy=\"constant\",fill_value=\"\")\n",
    "task = nan.fit_transform(jsa)\n",
    "task\n"
   ]
  },
  {
   "cell_type": "code",
   "execution_count": 63,
   "metadata": {},
   "outputs": [
    {
     "name": "stdout",
     "output_type": "stream",
     "text": [
      "Incident Number: AS-NE-20220216-002, Incident Date: 2022-02-16 00:00:00, Incident Type(s): Injury, Title: Finger laceration in assembly, Status: Closed, Category: Near Miss, Description: Assembler was preparing a valve for operation testing. Covers were off of the DVC which exposed threads on the junction box. As assembler climbed down ladder, his right ring finger brushed across these threads resulting in a cut. Assembler had just taken gloves off to install small fasteners on the DVC array. He went to medical right away and received treatment. He will go back to medical in the morning for review., Location (Level 2): Emerson, Location (Level 3): Final Control, Location (Level 4): Flow Controls, Location (Level 5): North America, Location (Level 6): USA/CAN/MEX, Location (Level 7): Marshalltown GRN, Location (Level 8): Darrin Nuese, Location (Level 9): Large Value Stream, Location (Level 10): , Location Tag: , Functional Activity: Assembly, Specific Location of Occurrence: Goliath, Did this event occur at a customer site?: No, Incident Time: 13:30:00, Date Reported: 2022-02-16 00:00:00, Relationship of Person Involved: Employee, Contracting Company: , Date Shift Began: 2022-02-16 00:00:00, Time Shift Began: 07:30:00, Date Entered: 2022-02-16 00:00:00, Task or Activity at Time of Incident: Assembling small parts on a valve body, Object/Substance That Directly Injured or Made Person Ill: Threaded stems, Physical or Immediate Causes of Incident: Back of fingers brushed against threaded stem, Immediate Action Taken: Work stoppage, employee reported to medical, near miss investigation., Standard Task at Time of Incident: Yes, Reportable/Recordable?: , Description of Treatment Provided: , Regulatory Agency: , Agency Contact Information: , Date Reported (to agency): , External Report Number: , Injury Classification: , # Restricted Days: , # Lost Days: , Injury/Illness Type: , Body Part: , Mechanism of Injury: , Accident Agent: , Date of Birth: NaT, Job Title: , Hire Date: NaT, Years in Present Job: , Total Years Experience: , PPE Worn: , Chemical(s) Released: , CAS Number: , Released To: , Quantity Released: , Quantity Recovered: , Onsite Area Affected: , Offsite Area Affected: , Ignition Source: , Extinguish Method: , Weather Conditions: , Motor Vehicle Incident?: No, MVA Physical Cause: , Total Number of Vehicles: , Road Conditions: , Road Type: , Police Report Filed: , Driving Activity: , Vehicle Ownership: , Insurance Carrier: , Policy Number: , Driver Duty Status: , Condition of Driver: , Driver wearing seatbelt?: , Mobile Powered Equipment Incident?: No, Operator Have Proper Certification?: , (Type of) Equipment Failure: , Failed Equipment: , Manufacturer: , Security Issue: , Insurance Group Notified: , Public Concern: , Impact: Minor, Likelihood of Recurrence: Remote, Risk Level: Low, Root Cause: Disregard for Known Safety Expectations; Worker Complacency, Root Cause Methodology: Fish Bone, Corrective Action Type: Administrative Controls (Training, Signage, Procedures, etc.); Personal Protective Equipment, Document Modifications: , Poka Yokes: No, Describe Poka Yoke: , Valid Hazard?: , Cost Type: , Total Cost: , Corrective Actions: AC-INC-20220221-074, Entered Investigation: 2022-02-16 00:00:00, Entered Review: , Entered Pending Closure: 2022-02-21 00:00:00, Entered Closed: 2022-02-21 00:00:00\n",
      "*******************\n",
      "Incident Number: AS-IN-20211011-001, Incident Date: 2021-10-11 00:00:00, Incident Type(s): Injury, Title: Shoulder Discomfort, Status: Closed, Category: Incident, Description: After loosening the chuck jaws for the positioner in Weld Shop, Booth #5, the operator felt discomfort in his left shoulder. The operator reported the incident and was going to go to Medical first thing when the Nurse was in. (07:00), Location (Level 2): Emerson, Location (Level 3): Final Control, Location (Level 4): Flow Controls, Location (Level 5): North America, Location (Level 6): USA/CAN/MEX, Location (Level 7): Marshalltown GRN, Location (Level 8): , Location (Level 9): , Location (Level 10): , Location Tag: GHG; MFG; Final Control (Manufacturing & Services), Functional Activity: Machining / Toolshop / Fabrication, Specific Location of Occurrence: Weld Shop (Booth #5), Did this event occur at a customer site?: No, Incident Time: 01:00:00, Date Reported: 2021-10-11 00:00:00, Relationship of Person Involved: Employee, Contracting Company: , Date Shift Began: 2021-10-11 00:00:00, Time Shift Began: 00:00:00, Date Entered: 2021-10-11 00:00:00, Task or Activity at Time of Incident: Loosening chuck jaws, Object/Substance That Directly Injured or Made Person Ill: Stress from loosening chuck jaws, Physical or Immediate Causes of Incident: Sore shoulder, Immediate Action Taken: Work stoppage, employee reported to supervisor, near miss investigation, employee reported to medical when they arrived., Standard Task at Time of Incident: Yes, Reportable/Recordable?: No, Description of Treatment Provided: Iced area., Regulatory Agency: , Agency Contact Information: , Date Reported (to agency): , External Report Number: , Injury Classification: First Aid, # Restricted Days: , # Lost Days: , Injury/Illness Type: Sprain / Strain, Body Part: Shoulder / Upper Arm, Mechanism of Injury: Material Handling: Pushing / Pulling, Accident Agent: Tool, Date of Birth: NaT, Job Title: Welder, Hire Date: NaT, Years in Present Job: , Total Years Experience: , PPE Worn: , Chemical(s) Released: , CAS Number: , Released To: , Quantity Released: , Quantity Recovered: , Onsite Area Affected: , Offsite Area Affected: , Ignition Source: , Extinguish Method: , Weather Conditions: , Motor Vehicle Incident?: No, MVA Physical Cause: , Total Number of Vehicles: , Road Conditions: , Road Type: , Police Report Filed: , Driving Activity: , Vehicle Ownership: , Insurance Carrier: , Policy Number: , Driver Duty Status: , Condition of Driver: , Driver wearing seatbelt?: , Mobile Powered Equipment Incident?: No, Operator Have Proper Certification?: , (Type of) Equipment Failure: , Failed Equipment: , Manufacturer: , Security Issue: , Insurance Group Notified: No, Public Concern: , Impact: Minor, Likelihood of Recurrence: Remote, Risk Level: Low, Root Cause: Equipment/Tool: Unavailable; Ergonomic-Related Issues/Body Positioning, Root Cause Methodology: Fish Bone, Corrective Action Type: Administrative Controls (Training, Signage, Procedures, etc.); Engineering Controls; Substitution, Document Modifications: , Poka Yokes: No, Describe Poka Yoke: , Valid Hazard?: , Cost Type: , Total Cost: , Corrective Actions: AC-INC-20211105-056, Entered Investigation: 2021-10-11 00:00:00, Entered Review: 2021-11-05 00:00:00, Entered Pending Closure: 2021-11-05 00:00:00, Entered Closed: 2021-11-05 00:00:00\n",
      "*******************\n",
      "Incident Number: AS-IN-20180206-010, Incident Date: 2018-02-06 00:00:00, Incident Type(s): Injury, Title: Allen wrench slipped causing laseration to thumb, Status: Closed, Category: Incident, Description: Operator was lossening a cap screw from locator plate on the table of his machine. As the operator pulled on the allen wrench to lossen the cap screw the allen wrench slipped out of the head of the cap screw causing the operator to hit his thumb on the metal gratting of the machine, Location (Level 2): Emerson, Location (Level 3): Final Control, Location (Level 4): Flow Controls, Location (Level 5): North America, Location (Level 6): USA/CAN/MEX, Location (Level 7): Marshalltown GRN, Location (Level 8): Ron Stebniski, Location (Level 9): TC2, Location (Level 10): , Location Tag: , Functional Activity: Machining / Toolshop / Fabrication, Specific Location of Occurrence: TC2 mach 2625, Did this event occur at a customer site?: No, Incident Time: 08:15:00, Date Reported: 2018-02-06 00:00:00, Relationship of Person Involved: Employee, Contracting Company: , Date Shift Began: 2018-02-06 00:00:00, Time Shift Began: 07:30:00, Date Entered: 2018-02-09 00:00:00, Task or Activity at Time of Incident: Loosening a bolt, Object/Substance That Directly Injured or Made Person Ill: Grating on machine, Physical or Immediate Causes of Incident: Laceration to hand, Immediate Action Taken: Work stoppage, employee reported to medical, near miss investigation, Standard Task at Time of Incident: Yes, Reportable/Recordable?: No, Description of Treatment Provided: Cleaned and bandaged wound., Regulatory Agency: , Agency Contact Information: , Date Reported (to agency): , External Report Number: , Injury Classification: First Aid, # Restricted Days: , # Lost Days: , Injury/Illness Type: Cut / Laceration, Body Part: Hand / Fingers, Mechanism of Injury: Struck Against, Accident Agent: Machinery / Equipment, Date of Birth: NaT, Job Title: Machinist, Hire Date: NaT, Years in Present Job: , Total Years Experience: , PPE Worn: , Chemical(s) Released: , CAS Number: , Released To: , Quantity Released: , Quantity Recovered: , Onsite Area Affected: , Offsite Area Affected: , Ignition Source: , Extinguish Method: , Weather Conditions: , Motor Vehicle Incident?: No, MVA Physical Cause: , Total Number of Vehicles: , Road Conditions: , Road Type: , Police Report Filed: , Driving Activity: , Vehicle Ownership: , Insurance Carrier: , Policy Number: , Driver Duty Status: , Condition of Driver: , Driver wearing seatbelt?: , Mobile Powered Equipment Incident?: No, Operator Have Proper Certification?: , (Type of) Equipment Failure: , Failed Equipment: , Manufacturer: , Security Issue: , Insurance Group Notified: No, Public Concern: , Impact: Minor, Likelihood of Recurrence: Unlikely, Risk Level: Low, Root Cause: Disregard for Known Safety Expectations, Root Cause Methodology: Fish Bone, Corrective Action Type: Administrative Controls (Training, Signage, Procedures, etc.); Personal Protective Equipment, Document Modifications: , Poka Yokes: No, Describe Poka Yoke: , Valid Hazard?: , Cost Type: , Total Cost: , Corrective Actions: AC-INC-20211004-094, Entered Investigation: 2018-02-09 00:00:00, Entered Review: 2021-10-04 00:00:00, Entered Pending Closure: 2021-10-04 00:00:00, Entered Closed: 2021-10-04 00:00:00\n",
      "*******************\n",
      "Incident Number: AS-IN-20200107-002, Incident Date: 2020-01-07 00:00:00, Incident Type(s): Injury, Title: Finger caught in pulley, Status: Closed, Category: Incident, Description: I was trying to get the centrifuge unstuck by spinning the belt to loosen up the sludge. It finally came loose cause my finger to get caught between the pulley and belt. Causing a small cut. Nurse cleaned it and gave me a band aid., Location (Level 2): Emerson, Location (Level 3): Final Control, Location (Level 4): Flow Controls, Location (Level 5): North America, Location (Level 6): USA/CAN/MEX, Location (Level 7): Marshalltown GRN, Location (Level 8): Kyle Townsend, Location (Level 9): Facilities, Location (Level 10): , Location Tag: , Functional Activity: Facilities / Maintece, Specific Location of Occurrence: Waste Water, Did this event occur at a customer site?: No, Incident Time: 20:45:00, Date Reported: 2020-01-07 00:00:00, Relationship of Person Involved: All Other, Contracting Company: , Date Shift Began: 2020-01-07 00:00:00, Time Shift Began: 04:00:00, Date Entered: 2020-01-07 00:00:00, Task or Activity at Time of Incident: Getting a centrifuge unstuck, Object/Substance That Directly Injured or Made Person Ill: Pulley/Belt, Physical or Immediate Causes of Incident: Pinched finger tip, Immediate Action Taken: Work stoppage, employee reported to medical, near miss investigation., Standard Task at Time of Incident: No, Reportable/Recordable?: No, Description of Treatment Provided: Bandage and ointment applied., Regulatory Agency: , Agency Contact Information: , Date Reported (to agency): , External Report Number: , Injury Classification: First Aid, # Restricted Days: , # Lost Days: , Injury/Illness Type: Cut / Laceration, Body Part: Hand / Fingers, Mechanism of Injury: Caught In / Between, Accident Agent: Machinery / Equipment, Date of Birth: NaT, Job Title: Maintece 2nd Supervisor, Hire Date: 2019-01-21 00:00:00, Years in Present Job: , Total Years Experience: , PPE Worn: , Chemical(s) Released: , CAS Number: , Released To: , Quantity Released: , Quantity Recovered: , Onsite Area Affected: , Offsite Area Affected: , Ignition Source: , Extinguish Method: , Weather Conditions: , Motor Vehicle Incident?: No, MVA Physical Cause: , Total Number of Vehicles: , Road Conditions: , Road Type: , Police Report Filed: , Driving Activity: , Vehicle Ownership: , Insurance Carrier: , Policy Number: , Driver Duty Status: , Condition of Driver: , Driver wearing seatbelt?: , Mobile Powered Equipment Incident?: No, Operator Have Proper Certification?: , (Type of) Equipment Failure: , Failed Equipment: , Manufacturer: , Security Issue: , Insurance Group Notified: , Public Concern: , Impact: Minor, Likelihood of Recurrence: Remote, Risk Level: Low, Root Cause: Disregard for Known Safety Expectations; Worker Complacency, Root Cause Methodology: Five Whys, Corrective Action Type: Administrative Controls (Training, Signage, Procedures, etc.), Document Modifications: , Poka Yokes: No, Describe Poka Yoke: , Valid Hazard?: , Cost Type: , Total Cost: , Corrective Actions: AC-INC-20200228-050, Entered Investigation: 2020-01-07 00:00:00, Entered Review: 2020-02-28 00:00:00, Entered Pending Closure: 2020-02-28 00:00:00, Entered Closed: 2020-02-28 00:00:00\n",
      "*******************\n",
      "Incident Number: AS-IN-20230317-004, Incident Date: 2023-03-17 00:00:00, Incident Type(s): Injury; Property Damage, Title: Wooden Crates, Status: Closed, Category: Incident, Description: Team member was moving two wooden crates to look make room for more material, when the bottom broke on the side causing the top crate to shift into the bottom. When trying to get the top crate out and remove from the crate one of the rungs on the crate broke causing product to spill to the floor. Some damage to product occured. No one was injured., Location (Level 2): Emerson, Location (Level 3): Final Control, Location (Level 4): Flow Controls, Location (Level 5): North America, Location (Level 6): USA/CAN/MEX, Location (Level 7): Sherman - FCV, Location (Level 8): Logistics, Location (Level 9): Product Finishing, Location (Level 10): , Location Tag: , Functional Activity: Shipping / Receiving / Warehousing, Specific Location of Occurrence: Staging area for product finishing, Did this event occur at a customer site?: No, Incident Time: 13:00:00, Date Reported: 2023-03-17 00:00:00, Relationship of Person Involved: Employee, Contracting Company: , Date Shift Began: 2023-03-17 00:00:00, Time Shift Began: 06:00:00, Date Entered: 2023-03-17 00:00:00, Task or Activity at Time of Incident: Moving wooden crates with unpainted cast iron parts in them., Object/Substance That Directly Injured or Made Person Ill: wooden crates, Physical or Immediate Causes of Incident: Insufficient packing for parts., Immediate Action Taken: Had employees moving parts from receiving to the paint area to inspect containers and to unstack prior to moving parts if unstable., Standard Task at Time of Incident: Yes, Reportable/Recordable?: No (Injury), Description of Treatment Provided: , Regulatory Agency: , Agency Contact Information: , Date Reported (to agency): , External Report Number: , Injury Classification: , # Restricted Days: , # Lost Days: , Injury/Illness Type: Other, Body Part: Other, Mechanism of Injury: Other, Accident Agent: Pallet / Crate, Date of Birth: NaT, Job Title: Material Handler, Hire Date: 2022-06-30 00:00:00, Years in Present Job: 0.5, Total Years Experience: 0.5, PPE Worn: , Chemical(s) Released: , CAS Number: , Released To: , Quantity Released: , Quantity Recovered: , Onsite Area Affected: , Offsite Area Affected: , Ignition Source: , Extinguish Method: , Weather Conditions: , Motor Vehicle Incident?: No, MVA Physical Cause: , Total Number of Vehicles: , Road Conditions: , Road Type: , Police Report Filed: , Driving Activity: , Vehicle Ownership: , Insurance Carrier: , Policy Number: , Driver Duty Status: , Condition of Driver: , Driver wearing seatbelt?: , Mobile Powered Equipment Incident?: Yes, Operator Have Proper Certification?: Yes, (Type of) Equipment Failure: , Failed Equipment: , Manufacturer: , Security Issue: , Insurance Group Notified: No, Public Concern: , Impact: Minor, Likelihood of Recurrence: Remote, Risk Level: Low, Root Cause: Housekeeping/Material Storage Conditions, Root Cause Methodology: Five Whys, Corrective Action Type: Administrative Controls (Training, Signage, Procedures, etc.), Document Modifications: , Poka Yokes: No, Describe Poka Yoke: , Valid Hazard?: , Cost Type: , Total Cost: , Corrective Actions: AC-INC-20230328-154, Entered Investigation: 2023-03-17 00:00:00, Entered Review: 2023-03-28 00:00:00, Entered Pending Closure: 2023-04-10 00:00:00, Entered Closed: 2023-04-10 00:00:00\n",
      "*******************\n",
      "Incident Number: AS-NE-20220524-004, Incident Date: 2022-05-24 00:00:00, Incident Type(s): Injury; Property Damage, Title: Pinched finger between body and hammer. , Status: Closed, Category: Near Miss, Description: Employees were setting the mechanical pins on a 9200 Rotary assembly. One of the guys was holding the punch, the second employee was holding/swinging the sledgehammer. When the employee struck the pin the hammer slipped, missing the pin, and pinching his right index finger between the butt weld body and the handle of the hammer. The employee was sent to medical for evaluation. Safety and personnel involved discussed new tooling ideas. , Location (Level 2): Emerson, Location (Level 3): Final Control, Location (Level 4): Flow Controls, Location (Level 5): North America, Location (Level 6): USA/CAN/MEX, Location (Level 7): Marshalltown GRN, Location (Level 8): Darrin Nuese, Location (Level 9): Nuclear Value Stream, Location (Level 10): , Location Tag: , Functional Activity: Assembly, Specific Location of Occurrence: NUCLEAR ASSEMBLY, Did this event occur at a customer site?: No, Incident Time: 14:00:00, Date Reported: 2022-05-24 00:00:00, Relationship of Person Involved: Employee, Contracting Company: , Date Shift Began: 2022-05-24 00:00:00, Time Shift Began: 07:00:00, Date Entered: 2022-05-24 00:00:00, Task or Activity at Time of Incident: Punching a pin into the actuator, Object/Substance That Directly Injured or Made Person Ill: Mallet handle, Physical or Immediate Causes of Incident: Pinched finger, Immediate Action Taken: Work stoppage, employee reported to medical, near miss investigation., Standard Task at Time of Incident: Yes, Reportable/Recordable?: , Description of Treatment Provided: , Regulatory Agency: , Agency Contact Information: , Date Reported (to agency): , External Report Number: , Injury Classification: , # Restricted Days: , # Lost Days: , Injury/Illness Type: , Body Part: , Mechanism of Injury: , Accident Agent: , Date of Birth: NaT, Job Title: , Hire Date: NaT, Years in Present Job: , Total Years Experience: , PPE Worn: , Chemical(s) Released: , CAS Number: , Released To: , Quantity Released: , Quantity Recovered: , Onsite Area Affected: , Offsite Area Affected: , Ignition Source: , Extinguish Method: , Weather Conditions: , Motor Vehicle Incident?: No, MVA Physical Cause: , Total Number of Vehicles: , Road Conditions: , Road Type: , Police Report Filed: , Driving Activity: , Vehicle Ownership: , Insurance Carrier: , Policy Number: , Driver Duty Status: , Condition of Driver: , Driver wearing seatbelt?: , Mobile Powered Equipment Incident?: No, Operator Have Proper Certification?: , (Type of) Equipment Failure: , Failed Equipment: , Manufacturer: , Security Issue: , Insurance Group Notified: , Public Concern: , Impact: Minor, Likelihood of Recurrence: Remote, Risk Level: Low, Root Cause: Equipment/Tool: Poor Design, Root Cause Methodology: Fish Bone, Corrective Action Type: Engineering Controls, Document Modifications: , Poka Yokes: No, Describe Poka Yoke: , Valid Hazard?: , Cost Type: , Total Cost: , Corrective Actions: AC-INC-20220531-179, Entered Investigation: 2022-05-24 00:00:00, Entered Review: , Entered Pending Closure: 2022-05-31 00:00:00, Entered Closed: 2022-05-31 00:00:00\n",
      "*******************\n",
      "Incident Number: AS-NE-20211013-002, Incident Date: 2021-10-13 00:00:00, Incident Type(s): Injury, Title: Trolley Derail in Shipping, Status: Closed, Category: Near Miss, Description: Employee was pushing an empty trolley through a switch. The employee stated that the switch was not fully engaged, which caused the leading wheels to come off of the monorail. The trolley was hanging by the back wheels and placed back on the monorail by a member of the Maintece Team., Location (Level 2): Emerson, Location (Level 3): Final Control, Location (Level 4): Flow Controls, Location (Level 5): North America, Location (Level 6): USA/CAN/MEX, Location (Level 7): Sherman - FCV, Location (Level 8): Logistics, Location (Level 9): , Location (Level 10): , Location Tag: , Functional Activity: Shipping / Receiving / Warehousing, Specific Location of Occurrence: Main Banding Line, Did this event occur at a customer site?: No, Incident Time: 07:30:00, Date Reported: 2021-10-13 00:00:00, Relationship of Person Involved: Employee, Contracting Company: , Date Shift Began: 2021-10-13 00:00:00, Time Shift Began: 06:00:00, Date Entered: 2021-10-13 00:00:00, Task or Activity at Time of Incident: Banding Units for shipment, Object/Substance That Directly Injured or Made Person Ill: Monorail System, Physical or Immediate Causes of Incident: Employee not paying attention, Immediate Action Taken: Maintece was contacted to correct the issue. The trolley was placed back on the monorail. The incident was discussed with the employee and it was emphasized that it must be visually verified that the switch is completely engaged before any trolley movement through the switch., Standard Task at Time of Incident: Yes, Reportable/Recordable?: , Description of Treatment Provided: , Regulatory Agency: , Agency Contact Information: , Date Reported (to agency): , External Report Number: , Injury Classification: , # Restricted Days: , # Lost Days: , Injury/Illness Type: , Body Part: , Mechanism of Injury: , Accident Agent: , Date of Birth: NaT, Job Title: , Hire Date: NaT, Years in Present Job: , Total Years Experience: , PPE Worn: , Chemical(s) Released: , CAS Number: , Released To: , Quantity Released: , Quantity Recovered: , Onsite Area Affected: , Offsite Area Affected: , Ignition Source: , Extinguish Method: , Weather Conditions: , Motor Vehicle Incident?: No, MVA Physical Cause: , Total Number of Vehicles: , Road Conditions: , Road Type: , Police Report Filed: , Driving Activity: , Vehicle Ownership: , Insurance Carrier: , Policy Number: , Driver Duty Status: , Condition of Driver: , Driver wearing seatbelt?: , Mobile Powered Equipment Incident?: No, Operator Have Proper Certification?: , (Type of) Equipment Failure: , Failed Equipment: , Manufacturer: , Security Issue: , Insurance Group Notified: , Public Concern: , Impact: Minor, Likelihood of Recurrence: Remote, Risk Level: Low, Root Cause: Worker Complacency, Root Cause Methodology: Five Whys, Corrective Action Type: Administrative Controls (Training, Signage, Procedures, etc.), Document Modifications: , Poka Yokes: No, Describe Poka Yoke: , Valid Hazard?: , Cost Type: , Total Cost: , Corrective Actions: AC-INC-20211013-060, Entered Investigation: 2021-10-13 00:00:00, Entered Review: , Entered Pending Closure: 2021-10-13 00:00:00, Entered Closed: 2021-11-02 00:00:00\n",
      "*******************\n",
      "Incident Number: AS-NE-20201207-001, Incident Date: 2020-12-07 00:00:00, Incident Type(s): Injury, Title: Assembly person pinched middle between 2 split collar halves., Status: Closed, Category: Near Miss, Description: Assembly person was trying to separate 2 split collar halves to install on butt weld for hydro. When doing this, one of the split collar halves became wedged and stuck. While trying to move the 2 split collar halves, he placed his hand under one of the slit collar halves and when the halve came free, it fell a few inches, pinning his middle finger between the 2 split collars. He was wearing gloves. He went to the nurse, iced for 15 minutes and took some ibuprofen and returned back to work. Will follow up with nurse at the end of the day., Location (Level 2): Emerson, Location (Level 3): Final Control, Location (Level 4): Flow Controls, Location (Level 5): North America, Location (Level 6): USA/CAN/MEX, Location (Level 7): Marshalltown GRN, Location (Level 8): Darrin Nuese, Location (Level 9): Large Value Stream, Location (Level 10): , Location Tag: , Functional Activity: Assembly, Specific Location of Occurrence: Large assembly hydro pad., Did this event occur at a customer site?: No, Incident Time: 09:10:00, Date Reported: 2020-12-07 00:00:00, Relationship of Person Involved: Employee, Contracting Company: , Date Shift Began: 2020-12-07 00:00:00, Time Shift Began: 07:30:00, Date Entered: 2020-12-07 00:00:00, Task or Activity at Time of Incident: Large assembly, Object/Substance That Directly Injured or Made Person Ill: Split collar halves, Physical or Immediate Causes of Incident: Pinched finger, Immediate Action Taken: Work stoppage, employee reported to medical, near miss investigation, Standard Task at Time of Incident: Yes, Reportable/Recordable?: , Description of Treatment Provided: , Regulatory Agency: , Agency Contact Information: , Date Reported (to agency): , External Report Number: , Injury Classification: , # Restricted Days: , # Lost Days: , Injury/Illness Type: , Body Part: , Mechanism of Injury: , Accident Agent: , Date of Birth: NaT, Job Title: , Hire Date: NaT, Years in Present Job: , Total Years Experience: , PPE Worn: , Chemical(s) Released: , CAS Number: , Released To: , Quantity Released: , Quantity Recovered: , Onsite Area Affected: , Offsite Area Affected: , Ignition Source: , Extinguish Method: , Weather Conditions: , Motor Vehicle Incident?: No, MVA Physical Cause: , Total Number of Vehicles: , Road Conditions: , Road Type: , Police Report Filed: , Driving Activity: , Vehicle Ownership: , Insurance Carrier: , Policy Number: , Driver Duty Status: , Condition of Driver: , Driver wearing seatbelt?: , Mobile Powered Equipment Incident?: No, Operator Have Proper Certification?: , (Type of) Equipment Failure: , Failed Equipment: , Manufacturer: , Security Issue: , Insurance Group Notified: , Public Concern: , Impact: Minor, Likelihood of Recurrence: Remote, Risk Level: Low, Root Cause: Ergonomic-Related Issues/Body Positioning; Worker Fatigue/Distraction, Root Cause Methodology: Fish Bone, Corrective Action Type: Administrative Controls (Training, Signage, Procedures, etc.), Document Modifications: , Poka Yokes: No, Describe Poka Yoke: , Valid Hazard?: , Cost Type: , Total Cost: , Corrective Actions: AC-INC-20210922-072, Entered Investigation: 2020-12-07 00:00:00, Entered Review: , Entered Pending Closure: 2021-09-22 00:00:00, Entered Closed: 2021-09-23 00:00:00\n",
      "*******************\n",
      "Incident Number: AS-IN-20220402-001, Incident Date: 2022-04-02 00:00:00, Incident Type(s): Injury, Title: Possible metal shaving in right eye, Status: Closed, Category: Incident, Description: Was grinding on a Vee ball, attenuator assy. Job # 30103410 in the weld shop with deburring tool. Thought he felt a chip in his eye. Washed his eye out and did not feel anything in at at this time. I told him to monitor it to see if it gets worse. , Location (Level 2): Emerson, Location (Level 3): Final Control, Location (Level 4): Flow Controls, Location (Level 5): North America, Location (Level 6): USA/CAN/MEX, Location (Level 7): Marshalltown GRN, Location (Level 8): , Location (Level 9): , Location (Level 10): , Location Tag: GHG; MFG; Final Control (Manufacturing & Services), Functional Activity: Welding / Grinding, Specific Location of Occurrence: weld shop booth 6, Did this event occur at a customer site?: No, Incident Time: 05:00:00, Date Reported: 2022-04-02 00:00:00, Relationship of Person Involved: Employee, Contracting Company: , Date Shift Began: 2022-04-02 00:00:00, Time Shift Began: 00:00:00, Date Entered: 2022-04-02 00:00:00, Task or Activity at Time of Incident: Grinding a vball, Object/Substance That Directly Injured or Made Person Ill: Metal shavings/dust, Physical or Immediate Causes of Incident: Discomfort in right eye, Immediate Action Taken: Work stoppage, employee flushed eye, Standard Task at Time of Incident: Yes, Reportable/Recordable?: No, Description of Treatment Provided: Flushed eye, Regulatory Agency: , Agency Contact Information: , Date Reported (to agency): , External Report Number: , Injury Classification: First Aid, # Restricted Days: , # Lost Days: , Injury/Illness Type: Foreign Object, Body Part: Other, Mechanism of Injury: Exposure / Contact: Harmful Substance, Accident Agent: Dust / Fume / Particles, Date of Birth: NaT, Job Title: Welder, Hire Date: NaT, Years in Present Job: , Total Years Experience: , PPE Worn: , Chemical(s) Released: , CAS Number: , Released To: , Quantity Released: , Quantity Recovered: , Onsite Area Affected: , Offsite Area Affected: , Ignition Source: , Extinguish Method: , Weather Conditions: , Motor Vehicle Incident?: No, MVA Physical Cause: , Total Number of Vehicles: , Road Conditions: , Road Type: , Police Report Filed: , Driving Activity: , Vehicle Ownership: , Insurance Carrier: , Policy Number: , Driver Duty Status: , Condition of Driver: , Driver wearing seatbelt?: , Mobile Powered Equipment Incident?: No, Operator Have Proper Certification?: , (Type of) Equipment Failure: , Failed Equipment: , Manufacturer: , Security Issue: , Insurance Group Notified: No, Public Concern: , Impact: Minor, Likelihood of Recurrence: Remote, Risk Level: Low, Root Cause: Workstation: Poor Design or Arrangement, Root Cause Methodology: Fish Bone, Corrective Action Type: Administrative Controls (Training, Signage, Procedures, etc.), Document Modifications: , Poka Yokes: No, Describe Poka Yoke: , Valid Hazard?: , Cost Type: , Total Cost: , Corrective Actions: AC-INC-20220406-083, Entered Investigation: 2022-04-02 00:00:00, Entered Review: 2022-04-06 00:00:00, Entered Pending Closure: 2022-04-06 00:00:00, Entered Closed: 2022-04-06 00:00:00\n",
      "*******************\n",
      "Incident Number: AS-IN-20220323-002, Incident Date: 2022-03-23 00:00:00, Incident Type(s): Injury, Title: Back Strain, Status: Closed, Category: Incident, Description: Welder was lifting and carrying a 5-gallon container full of Flux for the Sub-Arch Welder in Booth #9. Welder later complained of stiffness in his lower back area. A bucket of flux was later weighed on the scale in Box, Ship, Crate and found to weigh 44 pounds full. Welder was sent to Medical for examination., Location (Level 2): Emerson, Location (Level 3): Final Control, Location (Level 4): Flow Controls, Location (Level 5): North America, Location (Level 6): USA/CAN/MEX, Location (Level 7): Marshalltown GRN, Location (Level 8): , Location (Level 9): , Location (Level 10): , Location Tag: GHG; MFG; Final Control (Manufacturing & Services), Functional Activity: Welding / Grinding, Specific Location of Occurrence: Weld Shop , Did this event occur at a customer site?: No, Incident Time: 04:30:00, Date Reported: 2022-03-23 00:00:00, Relationship of Person Involved: Employee, Contracting Company: , Date Shift Began: 2022-03-23 00:00:00, Time Shift Began: 00:00:00, Date Entered: 2022-03-23 00:00:00, Task or Activity at Time of Incident: Carrying a bucket full of weld flux, Object/Substance That Directly Injured or Made Person Ill: Weight/Ergonomics associated with lifting the bucket, Physical or Immediate Causes of Incident: Pain to back, Immediate Action Taken: Work stoppage, employee reported to medical, near miss investigation, Standard Task at Time of Incident: Yes, Reportable/Recordable?: No, Description of Treatment Provided: Ibprofen and ice., Regulatory Agency: , Agency Contact Information: , Date Reported (to agency): , External Report Number: , Injury Classification: First Aid, # Restricted Days: , # Lost Days: , Injury/Illness Type: Sprain / Strain, Body Part: Back, Mechanism of Injury: Other, Accident Agent: Other, Date of Birth: NaT, Job Title: Welder, Hire Date: NaT, Years in Present Job: , Total Years Experience: , PPE Worn: , Chemical(s) Released: , CAS Number: , Released To: , Quantity Released: , Quantity Recovered: , Onsite Area Affected: , Offsite Area Affected: , Ignition Source: , Extinguish Method: , Weather Conditions: , Motor Vehicle Incident?: No, MVA Physical Cause: , Total Number of Vehicles: , Road Conditions: , Road Type: , Police Report Filed: , Driving Activity: , Vehicle Ownership: , Insurance Carrier: , Policy Number: , Driver Duty Status: , Condition of Driver: , Driver wearing seatbelt?: , Mobile Powered Equipment Incident?: No, Operator Have Proper Certification?: , (Type of) Equipment Failure: , Failed Equipment: , Manufacturer: , Security Issue: , Insurance Group Notified: No, Public Concern: , Impact: Minor, Likelihood of Recurrence: Remote, Risk Level: Low, Root Cause: Disregard for Known Safety Expectations; Equipment/Tool: Inadequate Safeguards, Root Cause Methodology: Fish Bone, Corrective Action Type: Administrative Controls (Training, Signage, Procedures, etc.); Engineering Controls, Document Modifications: , Poka Yokes: No, Describe Poka Yoke: , Valid Hazard?: , Cost Type: , Total Cost: , Corrective Actions: AC-INC-20220323-073, Entered Investigation: 2022-03-23 00:00:00, Entered Review: 2022-03-23 00:00:00, Entered Pending Closure: 2022-03-29 00:00:00, Entered Closed: 2022-03-29 00:00:00\n",
      "*******************\n"
     ]
    }
   ],
   "source": [
    "question = f\"Find incidents reported which are similar to {task}\"\n",
    "\n",
    "# Embed Question\n",
    "query_embedding = embedding = get_embeddings(question)\n",
    "# Semantic Search\n",
    "result = table.search(query_embedding).limit(10).to_list()\n",
    "context = [r[\"text\"] for r in result]\n",
    "for row in context:\n",
    "    print(row)\n",
    "    print(\"*******************\")"
   ]
  },
  {
   "cell_type": "code",
   "execution_count": 37,
   "metadata": {},
   "outputs": [
    {
     "data": {
      "text/plain": [
       "['Incident Number: AS-NE-20180209-002, Incident Date: 2018-02-09 00:00:00, Incident Type(s): Injury; Property Damage, Title: Valve fell out of vise, Status: Closed, Category: Near Miss, Description: Employee put a Special Painted 2\" 300 RF valve, DJ 15951649 in his vise to do the automation. He had mounted the DVC. Then walked about 12 feet to ask another assembler a question. As he had his back turned to the unit the other assembler seen the valve start to fall and hit a plastic cart that that had another valve staged on it and then go to the floor. This bench is equipped with a jib crane. No one was hurt. The valve had some damage to the flange. The plastic cart had the handle broken and there is a chip in the concreate , Location (Level 2): Emerson, Location (Level 3): Final Control, Location (Level 4): Flow Controls, Location (Level 5): North America, Location (Level 6): USA/CAN/MEX, Location (Level 7): Sherman - FCV, Location (Level 8): Baumann/SSV, Location (Level 9): SSV Assy, Location (Level 10): , Location Tag: , Functional Activity: Assembly, Specific Location of Occurrence: B-Cell southeast automation workstation, Did this event occur at a customer site?: No, Incident Time: 13:00:00, Date Reported: 2018-02-09 00:00:00, Relationship of Person Involved: Employee, Contracting Company: , Date Shift Began: 2018-02-09 00:00:00, Time Shift Began: 04:00:00, Date Entered: 2018-02-09 00:00:00, Task or Activity at Time of Incident: Automation of an ssv valve assembly, Object/Substance That Directly Injured or Made Person Ill: Unit falling, Physical or Immediate Causes of Incident: Valve unit was unhooked form Jib Crane, Immediate Action Taken: Had a discussion withe the assembler that the hoist must hooked to the special paint units while in the vise. Damaged Valve put in cart and taken to touchup paint. Plastic cart with broken handle off loaded to a different cart and then thrown away. The upper and lower casins on the actuator were bent and had to be changed., Standard Task at Time of Incident: Yes, Reportable/Recordable?: , Description of Treatment Provided: , Regulatory Agency: , Agency Contact Information: , Date Reported (to agency): , External Report Number: , Injury Classification: , # Restricted Days: , # Lost Days: , Injury/Illness Type: , Body Part: , Mechanism of Injury: , Accident Agent: , Date of Birth: NaT, Job Title: Assembler, Hire Date: 2014-08-25 00:00:00, Years in Present Job: 3.0, Total Years Experience: , PPE Worn: Gloves: Cut-Resistant, Chemical(s) Released: , CAS Number: , Released To: , Quantity Released: , Quantity Recovered: , Onsite Area Affected: , Offsite Area Affected: , Ignition Source: , Extinguish Method: , Weather Conditions: , Motor Vehicle Incident?: No, MVA Physical Cause: , Total Number of Vehicles: , Road Conditions: , Road Type: , Police Report Filed: , Driving Activity: , Vehicle Ownership: , Insurance Carrier: , Policy Number: , Driver Duty Status: , Condition of Driver: , Driver wearing seatbelt?: , Mobile Powered Equipment Incident?: No, Operator Have Proper Certification?: , (Type of) Equipment Failure: , Failed Equipment: , Manufacturer: , Security Issue: , Insurance Group Notified: , Public Concern: , Impact: Major, Likelihood of Recurrence: Unlikely, Risk Level: Medium, Root Cause: Procedure: Not followed, Root Cause Methodology: Causal Factor Charting, Corrective Action Type: Administrative Controls (Training, Signage, Procedures, etc.), Document Modifications: , Poka Yokes: No, Describe Poka Yoke: , Valid Hazard?: , Cost Type: Production Loss, Total Cost: 1.0, Corrective Actions: AS-AC-INC-20180209-042, Entered Investigation: 2018-02-09 00:00:00, Entered Review: , Entered Pending Closure: 2018-02-10 00:00:00, Entered Closed: 2018-02-20 00:00:00',\n",
       " \"Incident Number: AS-IN-20240802-003, Incident Date: 2024-08-02 00:00:00, Incident Type(s): Injury, Title: incident , Status: Closed, Category: Incident, Description: The electrician was pull wire on M2492 when he notice blood on his glove. He pulled his glove off and noticed he had torn his skin on the backside of his hand. He didn't know what he hit or where he hit it. He was sent to medical and got it cleaned up and put a band aide on it and was sent back to work. He was wearing the proper gloves for the work being preformed. Investigation team consisted of Tim Brown, Joe Worley, Chuck Bennett, Kyle Townsend, and Myself, Location (Level 2): Emerson, Location (Level 3): Final Control, Location (Level 4): Flow Controls, Location (Level 5): North America, Location (Level 6): USA/CAN/MEX, Location (Level 7): Marshalltown GRN, Location (Level 8): , Location (Level 9): , Location (Level 10): , Location Tag: GHG; MFG; Final Control (Manufacturing & Services), Functional Activity: Facilities / Maintece, Specific Location of Occurrence: M2492 Mag, Did this event occur at a customer site?: No, Incident Time: 09:15:00, Date Reported: 2024-08-02 00:00:00, Relationship of Person Involved: Employee, Contracting Company: , Date Shift Began: 2024-08-02 00:00:00, Time Shift Began: 08:00:00, Date Entered: 2024-08-02 00:00:00, Task or Activity at Time of Incident: Pulling electrical wire, Object/Substance That Directly Injured or Made Person Ill: Unknown, Physical or Immediate Causes of Incident: Puncture wound to hand, Immediate Action Taken: Work stoppage, employee reported to medical, near miss investigation, Standard Task at Time of Incident: Yes, Reportable/Recordable?: No, Description of Treatment Provided: Cleaned area, applied bandage, Regulatory Agency: , Agency Contact Information: , Date Reported (to agency): , External Report Number: , Injury Classification: First Aid, # Restricted Days: , # Lost Days: , Injury/Illness Type: Puncture, Body Part: Hand / Fingers, Mechanism of Injury: Struck Against, Accident Agent: Electrical Components, Date of Birth: NaT, Job Title: Maintenace Electrician, Hire Date: NaT, Years in Present Job: , Total Years Experience: , PPE Worn: , Chemical(s) Released: , CAS Number: , Released To: , Quantity Released: , Quantity Recovered: , Onsite Area Affected: , Offsite Area Affected: , Ignition Source: , Extinguish Method: , Weather Conditions: , Motor Vehicle Incident?: No, MVA Physical Cause: , Total Number of Vehicles: , Road Conditions: , Road Type: , Police Report Filed: , Driving Activity: , Vehicle Ownership: , Insurance Carrier: , Policy Number: , Driver Duty Status: , Condition of Driver: , Driver wearing seatbelt?: , Mobile Powered Equipment Incident?: No, Operator Have Proper Certification?: , (Type of) Equipment Failure: , Failed Equipment: , Manufacturer: , Security Issue: , Insurance Group Notified: No, Public Concern: , Impact: Minor, Likelihood of Recurrence: Unlikely, Risk Level: Low, Root Cause: Risk Acceptance Issue, Root Cause Methodology: Five Whys, Corrective Action Type: Administrative Controls (Training, Signage, Procedures, etc.), Document Modifications: , Poka Yokes: No, Describe Poka Yoke: , Valid Hazard?: , Cost Type: , Total Cost: , Corrective Actions: AC-INC-20240806-081, Entered Investigation: 2024-08-02 00:00:00, Entered Review: 2024-08-06 00:00:00, Entered Pending Closure: 2024-08-06 00:00:00, Entered Closed: 2024-08-06 00:00:00\",\n",
       " \"Incident Number: AS-IN-20240409-002, Incident Date: 2024-04-09 00:00:00, Incident Type(s): Injury, Title: Goliath Assembly Tooling Drop, Status: Closed, Category: Incident, Description: Employee was standing on TBX platform while tightening down the bonnet. The employee then reached across the bonnet with impact gun in hand attempting to tighten down another nut. While doing this the employee experienced back pain. The employee then fell to one knee. While dropping to one knee the socket on the impact gun detached then rolled off the valve onto the employee's leg. The employee then sat for a few minutes and decided to seek medical attention. The employee found the area foreman and informed them of the situation. The employee then sought medical care at the first aid station. Following the incident an investigation team was formed consisting of the area foremen, safety and the safety steward. The employee went to medical to be seen., Location (Level 2): Emerson, Location (Level 3): Final Control, Location (Level 4): Flow Controls, Location (Level 5): North America, Location (Level 6): USA/CAN/MEX, Location (Level 7): Marshalltown GRN, Location (Level 8): , Location (Level 9): , Location (Level 10): , Location Tag: GHG; MFG; Final Control (Manufacturing & Services), Functional Activity: Assembly, Specific Location of Occurrence: Goliath hydro pad, Did this event occur at a customer site?: No, Incident Time: 10:30:00, Date Reported: 2024-04-09 00:00:00, Relationship of Person Involved: Employee, Contracting Company: , Date Shift Began: 2024-04-09 00:00:00, Time Shift Began: 07:30:00, Date Entered: 2024-04-09 00:00:00, Task or Activity at Time of Incident: Assembling a TBX in Goliath Assembly, Object/Substance That Directly Injured or Made Person Ill: Reaching to tighten a nut, Physical or Immediate Causes of Incident: Reaching, Immediate Action Taken: Work stoppage, employee reported to his supervisor, employee reported to medical, near miss investigation, Standard Task at Time of Incident: Yes, Reportable/Recordable?: No, Description of Treatment Provided: Ice and ibuprofen., Regulatory Agency: , Agency Contact Information: , Date Reported (to agency): , External Report Number: , Injury Classification: First Aid, # Restricted Days: , # Lost Days: , Injury/Illness Type: Sprain / Strain, Body Part: Back, Mechanism of Injury: Ergonomics: Workstation Design, Accident Agent: Tool, Date of Birth: NaT, Job Title: assembly operator, Hire Date: 2022-09-26 00:00:00, Years in Present Job: , Total Years Experience: , PPE Worn: , Chemical(s) Released: , CAS Number: , Released To: , Quantity Released: , Quantity Recovered: , Onsite Area Affected: , Offsite Area Affected: , Ignition Source: , Extinguish Method: , Weather Conditions: , Motor Vehicle Incident?: No, MVA Physical Cause: , Total Number of Vehicles: , Road Conditions: , Road Type: , Police Report Filed: , Driving Activity: , Vehicle Ownership: , Insurance Carrier: , Policy Number: , Driver Duty Status: , Condition of Driver: , Driver wearing seatbelt?: , Mobile Powered Equipment Incident?: No, Operator Have Proper Certification?: , (Type of) Equipment Failure: , Failed Equipment: , Manufacturer: , Security Issue: , Insurance Group Notified: No, Public Concern: , Impact: Minor, Likelihood of Recurrence: Unlikely, Risk Level: Low, Root Cause: Ergonomic-Related Issues/Body Positioning; Shortcuts Taken/Rushing, Root Cause Methodology: Five Whys, Corrective Action Type: Administrative Controls (Training, Signage, Procedures, etc.); Engineering Controls, Document Modifications: , Poka Yokes: No, Describe Poka Yoke: , Valid Hazard?: , Cost Type: , Total Cost: , Corrective Actions: AC-INC-20240410-037, Entered Investigation: 2024-04-09 00:00:00, Entered Review: 2024-04-10 00:00:00, Entered Pending Closure: 2024-04-16 00:00:00, Entered Closed: 2024-04-16 00:00:00\",\n",
       " 'Incident Number: AS-IN-20220711-004, Incident Date: 2022-07-11 00:00:00, Incident Type(s): Injury; Property Damage, Title: Fallen Unit, Status: Closed, Category: Incident, Description: A teammate in the shipping area was adjusting a unit on the pallet when it became unstable and fell to the side causing the unit to hit the ground. There were no injuries, and the unit fell in the opposite direction of any teammates. There was no visible damage to the floor, and minor scuffs on the unit as well as bent tubing. The unit was taken back to assembly for replacement tubing and inspection., Location (Level 2): Emerson, Location (Level 3): Final Control, Location (Level 4): Flow Controls, Location (Level 5): North America, Location (Level 6): USA/CAN/MEX, Location (Level 7): Sherman - FCV, Location (Level 8): Logistics, Location (Level 9): Shipping, Location (Level 10): , Location Tag: , Functional Activity: Packaging, Specific Location of Occurrence: Banding line, Did this event occur at a customer site?: No, Incident Time: 11:45:00, Date Reported: 2022-07-11 00:00:00, Relationship of Person Involved: Employee, Contracting Company: , Date Shift Began: 2022-07-11 00:00:00, Time Shift Began: 10:00:00, Date Entered: 2022-07-11 00:00:00, Task or Activity at Time of Incident: Banding, Object/Substance That Directly Injured or Made Person Ill: Unit, Physical or Immediate Causes of Incident: Damage to a unit, Immediate Action Taken: Stopped work in the area, brought team together, and showed them what can occur, as well as coached them on how to prevent it in the future., Standard Task at Time of Incident: Yes, Reportable/Recordable?: No (Injury), Description of Treatment Provided: , Regulatory Agency: , Agency Contact Information: , Date Reported (to agency): , External Report Number: , Injury Classification: , # Restricted Days: , # Lost Days: , Injury/Illness Type: Contusion / Bruise, Body Part: Hand / Fingers, Mechanism of Injury: Struck Against, Accident Agent: Pallet / Crate, Date of Birth: NaT, Job Title: Receiving-Shipping dept., Hire Date: NaT, Years in Present Job: , Total Years Experience: , PPE Worn: , Chemical(s) Released: , CAS Number: , Released To: , Quantity Released: , Quantity Recovered: , Onsite Area Affected: , Offsite Area Affected: , Ignition Source: , Extinguish Method: , Weather Conditions: , Motor Vehicle Incident?: No, MVA Physical Cause: , Total Number of Vehicles: , Road Conditions: , Road Type: , Police Report Filed: , Driving Activity: , Vehicle Ownership: , Insurance Carrier: , Policy Number: , Driver Duty Status: , Condition of Driver: , Driver wearing seatbelt?: , Mobile Powered Equipment Incident?: No, Operator Have Proper Certification?: , (Type of) Equipment Failure: , Failed Equipment: , Manufacturer: , Security Issue: , Insurance Group Notified: , Public Concern: , Impact: Minor, Likelihood of Recurrence: Unlikely, Risk Level: Low, Root Cause: Worker Complacency, Root Cause Methodology: Five Whys, Corrective Action Type: Administrative Controls (Training, Signage, Procedures, etc.), Document Modifications: , Poka Yokes: No, Describe Poka Yoke: , Valid Hazard?: , Cost Type: Physical Damage, Total Cost: 0.0, Corrective Actions: AC-INC-20220711-135, Entered Investigation: 2022-07-11; 2022-07-14, Entered Review: 2022-07-14 00:00:00, Entered Pending Closure: 2022-07-11; 2022-07-14; 2022-07-14, Entered Closed: 2022-07-12; 2022-07-14',\n",
       " 'Incident Number: AS-IN-20230824-005, Incident Date: 2023-08-24 00:00:00, Incident Type(s): Injury; Property Damage, Title: Lifting Clamp Slipped Off, Status: Closed, Category: Incident, Description: The employee was attempting to remove the job from the vise and the lifting clamp came loose on one side causing the unit to shift towards the employee. The employee put their hand on the front of to try to keep it from coming their direction, then realized they needed to get out of the way. Job did not fall and teammate did experienced some discomfort in their right upper back/shoulder., Location (Level 2): Emerson, Location (Level 3): Final Control, Location (Level 4): Flow Controls, Location (Level 5): North America, Location (Level 6): USA/CAN/MEX, Location (Level 7): Sherman - FCV, Location (Level 8): Rotary/Instrument, Location (Level 9): Rotary Assembly, Location (Level 10): , Location Tag: , Functional Activity: Assembly, Specific Location of Occurrence: SSV Bench B-2, Did this event occur at a customer site?: No, Incident Time: 21:00:00, Date Reported: 2023-08-24 00:00:00, Relationship of Person Involved: Employee, Contracting Company: , Date Shift Began: 2023-08-24 00:00:00, Time Shift Began: 14:00:00, Date Entered: 2023-08-24 00:00:00, Task or Activity at Time of Incident: Automation, Object/Substance That Directly Injured or Made Person Ill: Motion repetitive , Physical or Immediate Causes of Incident: improper position, Immediate Action Taken: Looked at the lifting devices and discovered they can get worn out and possibly slip off. Assemblers are trained to look for this now to replace when needed. , Standard Task at Time of Incident: Yes, Reportable/Recordable?: No (Injury), Description of Treatment Provided: , Regulatory Agency: , Agency Contact Information: , Date Reported (to agency): , External Report Number: , Injury Classification: , # Restricted Days: , # Lost Days: , Injury/Illness Type: Sprain / Strain, Body Part: Shoulder / Upper Arm, Mechanism of Injury: Material Handling: Pushing / Pulling, Accident Agent: Product / Production Material, Date of Birth: NaT, Job Title: SSV assembler, Hire Date: 2023-07-07 00:00:00, Years in Present Job: 0.3, Total Years Experience: 0.3, PPE Worn: , Chemical(s) Released: , CAS Number: , Released To: , Quantity Released: , Quantity Recovered: , Onsite Area Affected: , Offsite Area Affected: , Ignition Source: , Extinguish Method: , Weather Conditions: , Motor Vehicle Incident?: No, MVA Physical Cause: , Total Number of Vehicles: , Road Conditions: , Road Type: , Police Report Filed: , Driving Activity: , Vehicle Ownership: , Insurance Carrier: , Policy Number: , Driver Duty Status: , Condition of Driver: , Driver wearing seatbelt?: , Mobile Powered Equipment Incident?: No, Operator Have Proper Certification?: , (Type of) Equipment Failure: , Failed Equipment: , Manufacturer: , Security Issue: , Insurance Group Notified: No, Public Concern: , Impact: Minor, Likelihood of Recurrence: Remote, Risk Level: Low, Root Cause: Worker Complacency, Root Cause Methodology: Five Whys, Corrective Action Type: Elimination, Document Modifications: Other, Poka Yokes: No, Describe Poka Yoke: , Valid Hazard?: , Cost Type: Other, Total Cost: 0.0, Corrective Actions: AC-INC-20230906-168, Entered Investigation: 2023-08-24 00:00:00, Entered Review: 2023-09-06 00:00:00, Entered Pending Closure: 2023-09-07 00:00:00, Entered Closed: 2023-09-07 00:00:00']"
      ]
     },
     "execution_count": 37,
     "metadata": {},
     "output_type": "execute_result"
    }
   ],
   "source": [
    "\n",
    "template = [\n",
    "            {\"Name\": \"The task being performed at the time of the incident was MOVING PARTS TO FLATS.\", \n",
    "             \"Task Risk\": \"Without considering the reported incident, the task of moving parts to flats in a manufacturing or industrial setting ...\",\n",
    "             \"Task Risk Score\":3,\n",
    "             \"Incident Specific Task Risk\":\"The risk increased due to the use of a rubber mat that insulated the part from the grounded table, which could have allowed for the buildup of static electricity that led to the shock incident\",\n",
    "             \"Incident Specific Task Risk Score\":5\n",
    "             }\n",
    "        ]\n",
    "question = '1. Identify the Information of the employee referenced in the incident'\n",
    "envelope = f\"You are a friendly AI assistant who finds information for Safety Analysts, analyze the incident information {context} and provide a insightfull response to task or follow the instruction {question}, You are required to respond strictly in JSON format, use the following template {json.dumps(template)}. Do not include any explanation or text outside of the JSON structure.\"\n",
    "messages = [\n",
    "            {\"role\": \"user\", \"content\": envelope}\n",
    "        ]\n",
    "response = chatIM(messages,'wizardlm2')\n",
    "print(response['content'])"
   ]
  }
 ],
 "metadata": {
  "kernelspec": {
   "display_name": "bulletin-generator",
   "language": "python",
   "name": "python3"
  },
  "language_info": {
   "codemirror_mode": {
    "name": "ipython",
    "version": 3
   },
   "file_extension": ".py",
   "mimetype": "text/x-python",
   "name": "python",
   "nbconvert_exporter": "python",
   "pygments_lexer": "ipython3",
   "version": "3.12.0"
  }
 },
 "nbformat": 4,
 "nbformat_minor": 2
}
